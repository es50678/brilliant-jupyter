{
 "cells": [
  {
   "cell_type": "code",
   "execution_count": 42,
   "id": "academic-raising",
   "metadata": {
    "execution": {
     "iopub.execute_input": "2021-03-30T04:02:06.118907Z",
     "iopub.status.busy": "2021-03-30T04:02:06.118670Z",
     "iopub.status.idle": "2021-03-30T04:02:06.122961Z",
     "shell.execute_reply": "2021-03-30T04:02:06.122234Z",
     "shell.execute_reply.started": "2021-03-30T04:02:06.118880Z"
    },
    "tags": []
   },
   "outputs": [
    {
     "data": {
      "text/plain": [
       "2116026372"
      ]
     },
     "execution_count": 42,
     "metadata": {},
     "output_type": "execute_result"
    }
   ],
   "source": [
    "0x7E200004"
   ]
  },
  {
   "cell_type": "code",
   "execution_count": 22,
   "id": "manual-responsibility",
   "metadata": {
    "execution": {
     "iopub.execute_input": "2021-03-30T02:41:24.583410Z",
     "iopub.status.busy": "2021-03-30T02:41:24.583026Z",
     "iopub.status.idle": "2021-03-30T02:41:24.588638Z",
     "shell.execute_reply": "2021-03-30T02:41:24.587621Z",
     "shell.execute_reply.started": "2021-03-30T02:41:24.583374Z"
    }
   },
   "outputs": [
    {
     "data": {
      "text/plain": [
       "16"
      ]
     },
     "execution_count": 22,
     "metadata": {},
     "output_type": "execute_result"
    }
   ],
   "source": [
    "0x10"
   ]
  },
  {
   "cell_type": "code",
   "execution_count": 23,
   "id": "considerable-apollo",
   "metadata": {
    "execution": {
     "iopub.execute_input": "2021-03-30T02:41:31.087183Z",
     "iopub.status.busy": "2021-03-30T02:41:31.086860Z",
     "iopub.status.idle": "2021-03-30T02:41:31.092859Z",
     "shell.execute_reply": "2021-03-30T02:41:31.092147Z",
     "shell.execute_reply.started": "2021-03-30T02:41:31.087148Z"
    }
   },
   "outputs": [
    {
     "data": {
      "text/plain": [
       "256"
      ]
     },
     "execution_count": 23,
     "metadata": {},
     "output_type": "execute_result"
    }
   ],
   "source": [
    "0x100"
   ]
  },
  {
   "cell_type": "code",
   "execution_count": 41,
   "id": "illegal-hobby",
   "metadata": {
    "execution": {
     "iopub.execute_input": "2021-03-30T02:43:26.023088Z",
     "iopub.status.busy": "2021-03-30T02:43:26.022860Z",
     "iopub.status.idle": "2021-03-30T02:43:26.026941Z",
     "shell.execute_reply": "2021-03-30T02:43:26.026283Z",
     "shell.execute_reply.started": "2021-03-30T02:43:26.023063Z"
    },
    "tags": []
   },
   "outputs": [
    {
     "data": {
      "text/plain": [
       "4722366482869645213696"
      ]
     },
     "execution_count": 41,
     "metadata": {},
     "output_type": "execute_result"
    }
   ],
   "source": [
    "0x1000_000_000_000_000_000"
   ]
  },
  {
   "cell_type": "code",
   "execution_count": null,
   "id": "plain-manchester",
   "metadata": {},
   "outputs": [],
   "source": []
  }
 ],
 "metadata": {
  "kernelspec": {
   "display_name": "Python 3",
   "language": "python",
   "name": "python3"
  },
  "language_info": {
   "codemirror_mode": {
    "name": "ipython",
    "version": 3
   },
   "file_extension": ".py",
   "mimetype": "text/x-python",
   "name": "python",
   "nbconvert_exporter": "python",
   "pygments_lexer": "ipython3",
   "version": "3.9.2"
  }
 },
 "nbformat": 4,
 "nbformat_minor": 5
}
