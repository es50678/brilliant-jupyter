{
 "cells": [
  {
   "cell_type": "code",
   "execution_count": 8,
   "id": "essential-messaging",
   "metadata": {
    "execution": {
     "iopub.execute_input": "2021-05-22T02:14:05.212208Z",
     "iopub.status.busy": "2021-05-22T02:14:05.211985Z",
     "iopub.status.idle": "2021-05-22T02:14:05.216259Z",
     "shell.execute_reply": "2021-05-22T02:14:05.215260Z",
     "shell.execute_reply.started": "2021-05-22T02:14:05.212184Z"
    },
    "tags": []
   },
   "outputs": [],
   "source": [
    "# convert to binary\n",
    "def binary_rep(n):\n",
    "    k = n\n",
    "    l = []\n",
    "    while k > 0:\n",
    "        q = int(k/2)\n",
    "        r = k%2\n",
    "        l.insert(0, r)\n",
    "        k = q\n",
    "    return l;"
   ]
  },
  {
   "cell_type": "code",
   "execution_count": 2,
   "id": "exciting-investing",
   "metadata": {
    "execution": {
     "iopub.execute_input": "2021-05-22T02:13:05.585630Z",
     "iopub.status.busy": "2021-05-22T02:13:05.585289Z",
     "iopub.status.idle": "2021-05-22T02:13:05.596017Z",
     "shell.execute_reply": "2021-05-22T02:13:05.595419Z",
     "shell.execute_reply.started": "2021-05-22T02:13:05.585588Z"
    },
    "tags": []
   },
   "outputs": [
    {
     "data": {
      "text/plain": [
       "[1, 0, 1, 0, 0, 1]"
      ]
     },
     "execution_count": 2,
     "metadata": {},
     "output_type": "execute_result"
    }
   ],
   "source": [
    "binary_rep(41)"
   ]
  },
  {
   "cell_type": "code",
   "execution_count": null,
   "id": "taken-toilet",
   "metadata": {},
   "outputs": [],
   "source": []
  }
 ],
 "metadata": {
  "kernelspec": {
   "display_name": "Python 3",
   "language": "python",
   "name": "python3"
  },
  "language_info": {
   "codemirror_mode": {
    "name": "ipython",
    "version": 3
   },
   "file_extension": ".py",
   "mimetype": "text/x-python",
   "name": "python",
   "nbconvert_exporter": "python",
   "pygments_lexer": "ipython3",
   "version": "3.9.2"
  }
 },
 "nbformat": 4,
 "nbformat_minor": 5
}
