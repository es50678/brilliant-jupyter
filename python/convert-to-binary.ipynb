{
 "cells": [
  {
   "cell_type": "code",
   "execution_count": 15,
   "id": "catholic-authorization",
   "metadata": {
    "execution": {
     "iopub.execute_input": "2021-05-06T02:00:43.853076Z",
     "iopub.status.busy": "2021-05-06T02:00:43.852822Z",
     "iopub.status.idle": "2021-05-06T02:00:43.857438Z",
     "shell.execute_reply": "2021-05-06T02:00:43.856707Z",
     "shell.execute_reply.started": "2021-05-06T02:00:43.853046Z"
    },
    "tags": []
   },
   "outputs": [],
   "source": [
    "# convert to binary\n",
    "def binary_rep(n):\n",
    "    k = n\n",
    "    l = []\n",
    "    while k > 0:\n",
    "        q = int(k/2)\n",
    "        r = k%2\n",
    "        l.insert(0, r)\n",
    "        k = q\n",
    "    return l;"
   ]
  },
  {
   "cell_type": "code",
   "execution_count": 16,
   "id": "amateur-local",
   "metadata": {
    "execution": {
     "iopub.execute_input": "2021-05-06T02:00:44.409544Z",
     "iopub.status.busy": "2021-05-06T02:00:44.409319Z",
     "iopub.status.idle": "2021-05-06T02:00:44.413603Z",
     "shell.execute_reply": "2021-05-06T02:00:44.412958Z",
     "shell.execute_reply.started": "2021-05-06T02:00:44.409519Z"
    },
    "tags": []
   },
   "outputs": [
    {
     "data": {
      "text/plain": [
       "[1, 0, 1, 0, 0, 1]"
      ]
     },
     "execution_count": 16,
     "metadata": {},
     "output_type": "execute_result"
    }
   ],
   "source": [
    "binary_rep(41)"
   ]
  },
  {
   "cell_type": "code",
   "execution_count": null,
   "id": "ideal-roberts",
   "metadata": {},
   "outputs": [],
   "source": []
  }
 ],
 "metadata": {
  "kernelspec": {
   "display_name": "Python 3",
   "language": "python",
   "name": "python3"
  },
  "language_info": {
   "codemirror_mode": {
    "name": "ipython",
    "version": 3
   },
   "file_extension": ".py",
   "mimetype": "text/x-python",
   "name": "python",
   "nbconvert_exporter": "python",
   "pygments_lexer": "ipython3",
   "version": "3.9.2"
  }
 },
 "nbformat": 4,
 "nbformat_minor": 5
}
