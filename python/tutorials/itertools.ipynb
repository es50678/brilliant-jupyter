{
 "cells": [
  {
   "cell_type": "markdown",
   "id": "1ee2c132-e8f3-4021-a1b2-142844f5631f",
   "metadata": {},
   "source": [
    "https://www.youtube.com/watch?v=HGOBQPFzWKo&t=5825s"
   ]
  },
  {
   "cell_type": "code",
   "execution_count": 1,
   "id": "18ba7d9e-f1b2-4615-b8f5-9d8adcb122e2",
   "metadata": {},
   "outputs": [],
   "source": [
    "from itertools import product, permutations, combinations, combinations_with_replacement, accumulate, groupby\n",
    "import operator"
   ]
  },
  {
   "cell_type": "code",
   "execution_count": 2,
   "id": "44e8320a-5c6c-4758-b409-53305923549b",
   "metadata": {},
   "outputs": [
    {
     "data": {
      "text/plain": [
       "[(1, 3), (1, 4), (2, 3), (2, 4)]"
      ]
     },
     "execution_count": 2,
     "metadata": {},
     "output_type": "execute_result"
    }
   ],
   "source": [
    "a = [1, 2]\n",
    "b = [3, 4]\n",
    "\n",
    "list(product(a,b, repeat=1))"
   ]
  },
  {
   "cell_type": "code",
   "execution_count": 3,
   "id": "e91e22be-d2b0-42ae-bc41-806a0656d58c",
   "metadata": {},
   "outputs": [
    {
     "name": "stdout",
     "output_type": "stream",
     "text": [
      "[(1, 2, 3), (1, 3, 2), (2, 1, 3), (2, 3, 1), (3, 1, 2), (3, 2, 1)]\n"
     ]
    }
   ],
   "source": [
    "a = [1, 2, 3]\n",
    "\n",
    "print(list(permutations(a)))"
   ]
  },
  {
   "cell_type": "code",
   "execution_count": 4,
   "id": "7dea609a-0605-40ef-b716-c516250a44a0",
   "metadata": {},
   "outputs": [
    {
     "data": {
      "text/plain": [
       "[(1, 2), (1, 3), (2, 1), (2, 3), (3, 1), (3, 2)]"
      ]
     },
     "execution_count": 4,
     "metadata": {},
     "output_type": "execute_result"
    }
   ],
   "source": [
    "list(permutations(a, r=2))"
   ]
  },
  {
   "cell_type": "code",
   "execution_count": 5,
   "id": "fd0029d9-e3d6-41a3-aca2-1f00dcd669cb",
   "metadata": {},
   "outputs": [
    {
     "data": {
      "text/plain": [
       "[(1, 2), (1, 3), (2, 3)]"
      ]
     },
     "execution_count": 5,
     "metadata": {},
     "output_type": "execute_result"
    }
   ],
   "source": [
    "a = [1, 2, 3]\n",
    "list(combinations(a, 2))"
   ]
  },
  {
   "cell_type": "code",
   "execution_count": 6,
   "id": "69f8e52f-50ae-4c60-a4f5-55b060d77a3d",
   "metadata": {},
   "outputs": [
    {
     "data": {
      "text/plain": [
       "[(1, 1), (1, 2), (1, 3), (2, 2), (2, 3), (3, 3)]"
      ]
     },
     "execution_count": 6,
     "metadata": {},
     "output_type": "execute_result"
    }
   ],
   "source": [
    "list(combinations_with_replacement(a, 2))"
   ]
  },
  {
   "cell_type": "code",
   "execution_count": 7,
   "id": "a95451c4-3d75-4960-a76f-4f5ba0c60daf",
   "metadata": {},
   "outputs": [
    {
     "data": {
      "text/plain": [
       "[1, 3, 7, 10]"
      ]
     },
     "execution_count": 7,
     "metadata": {},
     "output_type": "execute_result"
    }
   ],
   "source": [
    "a = [1, 2, 4, 3]\n",
    "list(accumulate(a))"
   ]
  },
  {
   "cell_type": "code",
   "execution_count": 8,
   "id": "e94b37ae-2bc2-4075-b87a-9abd2be3afc4",
   "metadata": {},
   "outputs": [
    {
     "data": {
      "text/plain": [
       "[1, 2, 8, 24]"
      ]
     },
     "execution_count": 8,
     "metadata": {},
     "output_type": "execute_result"
    }
   ],
   "source": [
    "list(accumulate(a, func=operator.mul))"
   ]
  },
  {
   "cell_type": "code",
   "execution_count": 9,
   "id": "02f09359-56d1-4d10-8955-c18e71bf6ec1",
   "metadata": {},
   "outputs": [
    {
     "data": {
      "text/plain": [
       "[1, 2, 4, 4]"
      ]
     },
     "execution_count": 9,
     "metadata": {},
     "output_type": "execute_result"
    }
   ],
   "source": [
    "list(accumulate(a, func=max))"
   ]
  },
  {
   "cell_type": "code",
   "execution_count": 10,
   "id": "554bba5d-242e-46aa-a397-6a987613e405",
   "metadata": {},
   "outputs": [
    {
     "name": "stdout",
     "output_type": "stream",
     "text": [
      "True [1, 2]\n",
      "False [3, 4]\n"
     ]
    }
   ],
   "source": [
    "a = [1, 2, 3, 4]\n",
    "\n",
    "for key, value in groupby(a, key=lambda x: x < 3):\n",
    "    print(key, list(value))"
   ]
  },
  {
   "cell_type": "code",
   "execution_count": 12,
   "id": "f911bd62-ed21-4b81-a913-39cd854e1a70",
   "metadata": {},
   "outputs": [
    {
     "name": "stdout",
     "output_type": "stream",
     "text": [
      "25 [{'name': 'Tim', 'age': 25}, {'name': 'Dan', 'age': 25}]\n",
      "27 [{'name': 'Lisa', 'age': 27}, {'name': 'Claire', 'age': 27}]\n"
     ]
    }
   ],
   "source": [
    "persons = [{'name': 'Tim', 'age': 25}, {'name': 'Dan', 'age': 25},\n",
    "           {'name': 'Lisa', 'age': 27}, {'name': 'Claire', 'age': 27}]\n",
    "\n",
    "for key, value in groupby(persons, key=lambda x: x['age']):\n",
    "    print(key, list(value))"
   ]
  },
  {
   "cell_type": "markdown",
   "id": "6d90218b-22ce-428b-9e93-71ac98f96cb6",
   "metadata": {},
   "source": [
    "### Infinite Iterators"
   ]
  },
  {
   "cell_type": "code",
   "execution_count": 13,
   "id": "0cccc2c1-70a3-47f6-b69f-d4485c0f0976",
   "metadata": {},
   "outputs": [],
   "source": [
    "from itertools import count, cycle, repeat"
   ]
  },
  {
   "cell_type": "code",
   "execution_count": 14,
   "id": "ff8b2cdc-bcad-4e31-9433-4dedc5238d11",
   "metadata": {},
   "outputs": [
    {
     "name": "stdout",
     "output_type": "stream",
     "text": [
      "10\n",
      "11\n",
      "12\n",
      "13\n",
      "14\n",
      "15\n"
     ]
    }
   ],
   "source": [
    "for i in count(10):\n",
    "    print(i)\n",
    "    \n",
    "    if i == 15:\n",
    "        break"
   ]
  },
  {
   "cell_type": "code",
   "execution_count": 15,
   "id": "bf787d1c-2a1d-4b1f-8685-82d9ab895bbf",
   "metadata": {},
   "outputs": [
    {
     "name": "stdout",
     "output_type": "stream",
     "text": [
      "1\n",
      "2\n",
      "3\n"
     ]
    }
   ],
   "source": [
    "a = [1, 2, 3]\n",
    "\n",
    "for i in cycle(a):\n",
    "    print(i)\n",
    "    \n",
    "    if i == 3:\n",
    "        break"
   ]
  },
  {
   "cell_type": "code",
   "execution_count": 16,
   "id": "54a185ed-15f3-4987-86de-405a940b6790",
   "metadata": {},
   "outputs": [
    {
     "name": "stdout",
     "output_type": "stream",
     "text": [
      "[1, 2, 3]\n",
      "[1, 2, 3]\n",
      "[1, 2, 3]\n",
      "[1, 2, 3]\n"
     ]
    }
   ],
   "source": [
    "a = [1, 2, 3]\n",
    "\n",
    "for i in repeat(a, 4):\n",
    "    print(list(i))"
   ]
  },
  {
   "cell_type": "code",
   "execution_count": null,
   "id": "48b6aa36-e3aa-4a6e-b3e0-fe8f10d48fbd",
   "metadata": {},
   "outputs": [],
   "source": []
  }
 ],
 "metadata": {
  "kernelspec": {
   "display_name": "Python 3",
   "language": "python",
   "name": "python3"
  },
  "language_info": {
   "codemirror_mode": {
    "name": "ipython",
    "version": 3
   },
   "file_extension": ".py",
   "mimetype": "text/x-python",
   "name": "python",
   "nbconvert_exporter": "python",
   "pygments_lexer": "ipython3",
   "version": "3.9.5"
  }
 },
 "nbformat": 4,
 "nbformat_minor": 5
}
