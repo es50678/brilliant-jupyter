{
 "cells": [
  {
   "cell_type": "markdown",
   "id": "complimentary-catering",
   "metadata": {},
   "source": [
    "https://leetcode.com/explore/learn/card/fun-with-arrays/521/introduction/"
   ]
  },
  {
   "cell_type": "code",
   "execution_count": 2,
   "id": "based-march",
   "metadata": {
    "execution": {
     "iopub.execute_input": "2021-03-19T15:38:54.221386Z",
     "iopub.status.busy": "2021-03-19T15:38:54.221146Z",
     "iopub.status.idle": "2021-03-19T15:38:54.225614Z",
     "shell.execute_reply": "2021-03-19T15:38:54.224864Z",
     "shell.execute_reply.started": "2021-03-19T15:38:54.221360Z"
    },
    "tags": []
   },
   "outputs": [],
   "source": [
    "class DVD:\n",
    "    def __init__(self, name: str, releaseYear: int, director: str):\n",
    "        self.name = name\n",
    "        self.releaseYear = releaseYear\n",
    "        self.director = director\n",
    "\n",
    "    def __repr__(self):\n",
    "        return self.__str__()\n",
    "\n",
    "    def __str__(self):\n",
    "        return \"{}, directed by {}, released in {}\".format(self.name, self.director, self.releaseYear)"
   ]
  },
  {
   "cell_type": "code",
   "execution_count": 4,
   "id": "numerous-patch",
   "metadata": {
    "execution": {
     "iopub.execute_input": "2021-03-19T15:38:55.300744Z",
     "iopub.status.busy": "2021-03-19T15:38:55.300526Z",
     "iopub.status.idle": "2021-03-19T15:38:55.304769Z",
     "shell.execute_reply": "2021-03-19T15:38:55.304159Z",
     "shell.execute_reply.started": "2021-03-19T15:38:55.300721Z"
    },
    "tags": []
   },
   "outputs": [
    {
     "data": {
      "text/plain": "M Max: Fury Road, directed by George Miller, released in 2015"
     },
     "execution_count": 4,
     "metadata": {},
     "output_type": "execute_result"
    }
   ],
   "source": [
    "DVD(name=\"Mad Max: Fury Road\", releaseYear=2015, director=\"George Miller\")"
   ]
  },
  {
   "cell_type": "code",
   "execution_count": null,
   "id": "departmental-pharmacy",
   "metadata": {},
   "outputs": [],
   "source": []
  }
 ],
 "metadata": {
  "kernelspec": {
   "display_name": "Python 3",
   "language": "python",
   "name": "python3"
  },
  "language_info": {
   "codemirror_mode": {
    "name": "ipython",
    "version": 3
   },
   "file_extension": ".py",
   "mimetype": "text/x-python",
   "name": "python",
   "nbconvert_exporter": "python",
   "pygments_lexer": "ipython3",
   "version": "3.9.2"
  }
 },
 "nbformat": 4,
 "nbformat_minor": 5
}