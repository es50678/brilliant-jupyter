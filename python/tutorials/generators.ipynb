{
 "cells": [
  {
   "cell_type": "markdown",
   "id": "58684dfb-d7c0-447a-83d8-3e8ba3d63658",
   "metadata": {},
   "source": [
    "# [Generators](https://www.youtube.com/watch?v=HGOBQPFzWKo&t=12932s)\n",
    "Generators are functions that return an object that can be iterated\n",
    "- they generate the items inside the object lazily.\n",
    "  - only one at a time, therefore much more memory efficient when dealing with large data sets"
   ]
  },
  {
   "cell_type": "code",
   "execution_count": 1,
   "id": "5525ad49-360c-4455-a70d-939d84d95736",
   "metadata": {},
   "outputs": [],
   "source": [
    "import sys"
   ]
  },
  {
   "cell_type": "code",
   "execution_count": 2,
   "id": "11572150-e030-4b2a-b0a2-2941e62df75d",
   "metadata": {},
   "outputs": [
    {
     "name": "stdout",
     "output_type": "stream",
     "text": [
      "<generator object mygenerator at 0x7f9298ca4660>\n",
      "[1, 2, 3]\n",
      "6\n"
     ]
    }
   ],
   "source": [
    "def mygenerator(): # use yield instead of return\n",
    "    yield 1 # every time execution hits yield, then returns the value and pauses\n",
    "    yield 2\n",
    "    yield 3\n",
    "\n",
    "    \n",
    "g = mygenerator()\n",
    "print(g)\n",
    "\n",
    "# generators work with anything that take an iterable(ie: for loops, list, sum, sorted, etc)\n",
    "print(list(g))\n",
    "\n",
    "g = mygenerator() # generated was exhausted, have to create a new one\n",
    "print(sum(g))"
   ]
  },
  {
   "cell_type": "code",
   "execution_count": 3,
   "id": "cbba5e85-4a66-4ea6-a5ca-344ec30319f9",
   "metadata": {},
   "outputs": [
    {
     "name": "stdout",
     "output_type": "stream",
     "text": [
      "1\n",
      "2\n",
      "3\n"
     ]
    }
   ],
   "source": [
    "g = mygenerator()\n",
    "\n",
    "value = next(g) # pauses at first yield\n",
    "print(value)\n",
    "\n",
    "value = next(g) # pauses at second yield\n",
    "print(value)\n",
    "\n",
    "value = next(g) # pauses at third yield\n",
    "print(value)\n",
    "\n",
    "# value = next(g) # throws error because no more yield statements"
   ]
  },
  {
   "cell_type": "code",
   "execution_count": 4,
   "id": "c5cf19d1-7ec0-4ecf-9c1c-f9d9212d24de",
   "metadata": {},
   "outputs": [],
   "source": [
    "def countdown(num):\n",
    "    print('Starting')\n",
    "    while num > 0:\n",
    "        yield num\n",
    "        num -= 1"
   ]
  },
  {
   "cell_type": "code",
   "execution_count": 5,
   "id": "e062c100-5c9e-48d5-a626-8e7dfbf7382f",
   "metadata": {},
   "outputs": [
    {
     "name": "stdout",
     "output_type": "stream",
     "text": [
      "Starting\n",
      "4\n",
      "3\n"
     ]
    }
   ],
   "source": [
    "cd = countdown(4)\n",
    "value = next(cd)\n",
    "print(value)\n",
    "value = next(cd)\n",
    "print(value)"
   ]
  },
  {
   "cell_type": "markdown",
   "id": "27c544f7-10fa-4672-aba2-ef213d0dce02",
   "metadata": {},
   "source": [
    "### Memory efficienty example"
   ]
  },
  {
   "cell_type": "code",
   "execution_count": 6,
   "id": "641bc348-24d6-4c49-acd5-dbb9381b7403",
   "metadata": {},
   "outputs": [
    {
     "name": "stdout",
     "output_type": "stream",
     "text": [
      "8448728\n",
      "32\n",
      "261 ms ± 0 ns per loop (mean ± std. dev. of 1 run, 1 loop each)\n"
     ]
    }
   ],
   "source": [
    "%%timeit -r1 -n1\n",
    "def firstn(n):\n",
    "    nums = []\n",
    "    num = 0\n",
    "    \n",
    "    while num < n:\n",
    "        nums.append(num)\n",
    "        num += 1\n",
    "    \n",
    "    return nums\n",
    "\n",
    "print(sys.getsizeof(firstn(1000000)))\n",
    "print(sys.getsizeof(sum(firstn(1000000))))"
   ]
  },
  {
   "cell_type": "code",
   "execution_count": 7,
   "id": "dc6b754f-9f5f-488a-8d5a-5f2806123d9c",
   "metadata": {},
   "outputs": [
    {
     "name": "stdout",
     "output_type": "stream",
     "text": [
      "112\n",
      "32\n",
      "96.3 ms ± 0 ns per loop (mean ± std. dev. of 1 run, 1 loop each)\n"
     ]
    }
   ],
   "source": [
    "%%timeit -r1 -n1\n",
    "def firstn_generator(n):\n",
    "    num = 0\n",
    "    while num < n:\n",
    "        yield num\n",
    "        num += 1\n",
    "        \n",
    "\n",
    "print(sys.getsizeof(firstn_generator(1000000)))\n",
    "print(sys.getsizeof(sum(firstn_generator(1000000))))"
   ]
  },
  {
   "cell_type": "code",
   "execution_count": 8,
   "id": "a8a80bac-c606-4626-a91f-3a0d5685d31f",
   "metadata": {},
   "outputs": [
    {
     "data": {
      "text/plain": [
       "[0, 1, 1, 2, 3, 5, 8, 13, 21, 34]"
      ]
     },
     "execution_count": 8,
     "metadata": {},
     "output_type": "execute_result"
    }
   ],
   "source": [
    "def fibonacci(limit):\n",
    "    a, b = 0, 1\n",
    "    \n",
    "    while a < limit:\n",
    "        yield a\n",
    "        a, b = b, (a + b)\n",
    "        \n",
    "fib = fibonacci(40)\n",
    "list(fib)"
   ]
  },
  {
   "cell_type": "markdown",
   "id": "71d48fdb-3cbd-4078-8a51-865beb2d3136",
   "metadata": {},
   "source": [
    "### Generator expressions\n",
    "A shortcut to implement a generator, similar to list comprehension. "
   ]
  },
  {
   "cell_type": "code",
   "execution_count": 13,
   "id": "e61ee681-0a82-4b4c-a632-d1657cc3dd8f",
   "metadata": {},
   "outputs": [
    {
     "name": "stdout",
     "output_type": "stream",
     "text": [
      "112\n"
     ]
    }
   ],
   "source": [
    "mygenerator = (i for i in range(100000) if i % 2 == 0)\n",
    "print(sys.getsizeof(mygenerator))"
   ]
  },
  {
   "cell_type": "code",
   "execution_count": 14,
   "id": "b8b5428a-3d9c-4025-88ee-07f9bf31058e",
   "metadata": {},
   "outputs": [
    {
     "name": "stdout",
     "output_type": "stream",
     "text": [
      "444376\n"
     ]
    }
   ],
   "source": [
    "mylist = [i for i in range(100000) if i % 2 == 0]\n",
    "print(sys.getsizeof(mylist))"
   ]
  },
  {
   "cell_type": "code",
   "execution_count": null,
   "id": "0066b00e-acbb-4a64-9374-a4c2954f695e",
   "metadata": {},
   "outputs": [],
   "source": []
  }
 ],
 "metadata": {
  "kernelspec": {
   "display_name": "Python 3",
   "language": "python",
   "name": "python3"
  },
  "language_info": {
   "codemirror_mode": {
    "name": "ipython",
    "version": 3
   },
   "file_extension": ".py",
   "mimetype": "text/x-python",
   "name": "python",
   "nbconvert_exporter": "python",
   "pygments_lexer": "ipython3",
   "version": "3.7.10"
  }
 },
 "nbformat": 4,
 "nbformat_minor": 5
}
