{
 "cells": [
  {
   "cell_type": "markdown",
   "id": "dc369a50-1ddf-4178-b1db-03e64c5d3cae",
   "metadata": {},
   "source": [
    "https://www.youtube.com/watch?v=HGOBQPFzWKo&t=8410s"
   ]
  },
  {
   "cell_type": "code",
   "execution_count": 1,
   "id": "46f3a720-88b5-465f-903f-cf200ee09c5e",
   "metadata": {},
   "outputs": [],
   "source": [
    "import logging\n",
    "import traceback\n",
    "\n",
    "logging.basicConfig(level=logging.DEBUG, format='%(asctime)s - %(name)s - %(levelname)s - %(message)s', datefmt='%m/%d/%Y %H:%M:%S')"
   ]
  },
  {
   "cell_type": "code",
   "execution_count": 2,
   "id": "c221e31a-146e-47e7-8b38-0d24ee8e8a09",
   "metadata": {},
   "outputs": [
    {
     "name": "stderr",
     "output_type": "stream",
     "text": [
      "05/31/2021 18:51:18 - root - DEBUG - some debug\n",
      "05/31/2021 18:51:18 - root - INFO - info msg\n",
      "05/31/2021 18:51:18 - root - WARNING - warning log\n",
      "05/31/2021 18:51:18 - root - ERROR - error\n",
      "05/31/2021 18:51:18 - root - CRITICAL - ciritcal\n"
     ]
    }
   ],
   "source": [
    "logging.debug('some debug')\n",
    "logging.info('info msg')\n",
    "logging.warning('warning log')\n",
    "logging.error('error')\n",
    "logging.critical('ciritcal')"
   ]
  },
  {
   "cell_type": "code",
   "execution_count": 3,
   "id": "952d4226-b40a-4b9a-b3c7-5c52e9617fbb",
   "metadata": {},
   "outputs": [
    {
     "name": "stderr",
     "output_type": "stream",
     "text": [
      "05/31/2021 18:51:18 - root - ERROR - The error is Traceback (most recent call last):\n",
      "  File \"<ipython-input-3-da2f19f47ee3>\", line 3, in <module>\n",
      "    a[4]\n",
      "IndexError: list index out of range\n",
      "\n"
     ]
    }
   ],
   "source": [
    "try:\n",
    "    a = [1,2,3]\n",
    "    a[4]\n",
    "except:\n",
    "    logging.error('The error is %s', traceback.format_exc())"
   ]
  }
 ],
 "metadata": {
  "kernelspec": {
   "display_name": "Python 3",
   "language": "python",
   "name": "python3"
  },
  "language_info": {
   "codemirror_mode": {
    "name": "ipython",
    "version": 3
   },
   "file_extension": ".py",
   "mimetype": "text/x-python",
   "name": "python",
   "nbconvert_exporter": "python",
   "pygments_lexer": "ipython3",
   "version": "3.9.5"
  }
 },
 "nbformat": 4,
 "nbformat_minor": 5
}
