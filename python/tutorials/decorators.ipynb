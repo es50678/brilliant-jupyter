{
 "cells": [
  {
   "cell_type": "markdown",
   "id": "bbef7cd5-7c0d-4c70-9863-1a5fa692266c",
   "metadata": {},
   "source": [
    "https://www.youtube.com/watch?v=HGOBQPFzWKo&t=11663s"
   ]
  },
  {
   "cell_type": "code",
   "execution_count": 1,
   "id": "babad628-9e38-4410-a144-919e86e7a93a",
   "metadata": {},
   "outputs": [],
   "source": [
    "import functools"
   ]
  },
  {
   "cell_type": "code",
   "execution_count": 2,
   "id": "a47a4d1a-02ef-4a30-bcf2-b061814c369a",
   "metadata": {},
   "outputs": [],
   "source": [
    "# function decorators\n",
    "#   a function that takes another function as an argument and extends the behavior of the function.\n",
    "#   - only adds functionality, does not take it away.\n",
    "def start_end_decorator(func):\n",
    "    def wrapper(*args, **kwargs):\n",
    "        print('extending behavior before')\n",
    "        func(*args, **kwargs)\n",
    "        print('extending behavior after')\n",
    "    return wrapper\n",
    "\n",
    "def print_name():\n",
    "    print('Alex')"
   ]
  },
  {
   "cell_type": "code",
   "execution_count": 3,
   "id": "c71a6694-248e-4f04-8031-71cf63c77774",
   "metadata": {},
   "outputs": [
    {
     "name": "stdout",
     "output_type": "stream",
     "text": [
      "Alex\n"
     ]
    }
   ],
   "source": [
    "print_name()"
   ]
  },
  {
   "cell_type": "code",
   "execution_count": 4,
   "id": "dda19367-640d-47ca-85a8-580c1d9c9917",
   "metadata": {},
   "outputs": [
    {
     "name": "stdout",
     "output_type": "stream",
     "text": [
      "extending behavior before\n",
      "Alex\n",
      "extending behavior after\n"
     ]
    }
   ],
   "source": [
    "print_name = start_end_decorator(print_name)\n",
    "print_name()"
   ]
  },
  {
   "cell_type": "code",
   "execution_count": 5,
   "id": "636e75d9-5e7e-41bd-88c3-400368fbca0d",
   "metadata": {},
   "outputs": [
    {
     "name": "stdout",
     "output_type": "stream",
     "text": [
      "extending behavior before\n",
      "Alex\n",
      "extending behavior after\n"
     ]
    }
   ],
   "source": [
    "# equivalent to - print_name = start_end_decorator(print_name)\n",
    "@start_end_decorator\n",
    "def print_name():\n",
    "    print('Alex')\n",
    "\n",
    "print_name()"
   ]
  },
  {
   "cell_type": "markdown",
   "id": "5c59b06b-8a6e-4567-96db-080fb1c3410e",
   "metadata": {},
   "source": [
    "### Dealing With Args"
   ]
  },
  {
   "cell_type": "code",
   "execution_count": 6,
   "id": "67ce261a-671f-401d-90d5-1adcbcc6de70",
   "metadata": {},
   "outputs": [],
   "source": [
    "@start_end_decorator\n",
    "def add5(x):\n",
    "    return x + 5"
   ]
  },
  {
   "cell_type": "code",
   "execution_count": 7,
   "id": "42182e63-cdcd-44ff-8256-463131ad9bfe",
   "metadata": {},
   "outputs": [
    {
     "name": "stdout",
     "output_type": "stream",
     "text": [
      "extending behavior before\n",
      "extending behavior after\n",
      "None\n"
     ]
    }
   ],
   "source": [
    "a = add5(5)\n",
    "print(a) # add5 returns nothing because the wrapper returns nothing"
   ]
  },
  {
   "cell_type": "code",
   "execution_count": 8,
   "id": "81a02172-d652-4bb1-9a99-3565e933123d",
   "metadata": {},
   "outputs": [],
   "source": [
    "def start_end_decorator(func):\n",
    "    def wrapper(*args, **kwargs):\n",
    "        print('extending behavior before')\n",
    "        res = func(*args, **kwargs)\n",
    "        print('extending behavior after')\n",
    "        return res\n",
    "    return wrapper\n",
    "\n",
    "@start_end_decorator\n",
    "def add5(x):\n",
    "    return x + 5"
   ]
  },
  {
   "cell_type": "code",
   "execution_count": 9,
   "id": "6d2a11a4-229e-4eed-8acf-34f2afc0b01d",
   "metadata": {},
   "outputs": [
    {
     "name": "stdout",
     "output_type": "stream",
     "text": [
      "extending behavior before\n",
      "extending behavior after\n"
     ]
    },
    {
     "data": {
      "text/plain": [
       "10"
      ]
     },
     "execution_count": 9,
     "metadata": {},
     "output_type": "execute_result"
    }
   ],
   "source": [
    "add5(5)"
   ]
  },
  {
   "cell_type": "markdown",
   "id": "1b35e270-443d-4762-b8d0-d4a0ef7e352d",
   "metadata": {},
   "source": [
    "### function identiteis get messed up"
   ]
  },
  {
   "cell_type": "code",
   "execution_count": 10,
   "id": "1ab03e90-0b6a-4957-b1ac-a585d097251b",
   "metadata": {},
   "outputs": [
    {
     "name": "stdout",
     "output_type": "stream",
     "text": [
      "Help on function wrapper in module __main__:\n",
      "\n",
      "wrapper(*args, **kwargs)\n",
      "\n",
      "None\n",
      "wrapper\n"
     ]
    }
   ],
   "source": [
    "print(help(add5))\n",
    "print(add5.__name__) # => python thinks that add5 is named \"wrapper\""
   ]
  },
  {
   "cell_type": "code",
   "execution_count": 11,
   "id": "8c9c46b2-2d8a-452d-8ea6-b1b255daf3ed",
   "metadata": {},
   "outputs": [
    {
     "name": "stdout",
     "output_type": "stream",
     "text": [
      "Help on function add5 in module __main__:\n",
      "\n",
      "add5(x)\n",
      "\n",
      "None\n",
      "add5\n"
     ]
    }
   ],
   "source": [
    "def start_end_decorator(func):\n",
    "    @functools.wraps(func) # preserves identity\n",
    "    def wrapper(*args, **kwargs):\n",
    "        print('extending behavior before')\n",
    "        res = func(*args, **kwargs)\n",
    "        print('extending behavior after')\n",
    "        return res\n",
    "    return wrapper\n",
    "\n",
    "@start_end_decorator\n",
    "def add5(x):\n",
    "    return x + 5\n",
    "\n",
    "print(help(add5))\n",
    "print(add5.__name__)"
   ]
  },
  {
   "cell_type": "markdown",
   "id": "3c157b8f-29e3-4a10-b723-1274a0c451eb",
   "metadata": {},
   "source": [
    "### Decorators with arguments"
   ]
  },
  {
   "cell_type": "code",
   "execution_count": 12,
   "id": "0e70653a-64fa-4bdd-8ccc-5965505a841e",
   "metadata": {},
   "outputs": [
    {
     "name": "stdout",
     "output_type": "stream",
     "text": [
      "hello Alex\n",
      "hello Alex\n",
      "hello Alex\n"
     ]
    }
   ],
   "source": [
    "def repeat(num_times):\n",
    "\n",
    "    def decorator_repeat(func):\n",
    "        \n",
    "        @functools.wraps(func)\n",
    "        def wrapper(*args, **kwargs):\n",
    "            for _ in range(num_times):\n",
    "                result = func(*args, **kwargs)\n",
    "            return result\n",
    "        \n",
    "        return wrapper\n",
    "    \n",
    "    return decorator_repeat\n",
    "            \n",
    "\n",
    "@repeat(num_times=3)\n",
    "def greet(name):\n",
    "    print(f'hello {name}')\n",
    "    \n",
    "\n",
    "greet('Alex')"
   ]
  },
  {
   "cell_type": "markdown",
   "id": "f00d19ee-d62c-4e17-a449-0b01644e9534",
   "metadata": {},
   "source": [
    "### Nested Decorators"
   ]
  },
  {
   "cell_type": "code",
   "execution_count": 13,
   "id": "a8836cc0-9132-4cc1-a5a9-e303752bc00b",
   "metadata": {},
   "outputs": [
    {
     "name": "stdout",
     "output_type": "stream",
     "text": [
      "Calling say_hello('ed')\n",
      "extending behavior before\n",
      "Hello ed\n",
      "extending behavior after\n",
      "'say_hello' returned 'Hello ed'\n"
     ]
    },
    {
     "data": {
      "text/plain": [
       "'Hello ed'"
      ]
     },
     "execution_count": 13,
     "metadata": {},
     "output_type": "execute_result"
    }
   ],
   "source": [
    "def start_end_decorator(func):\n",
    "    @functools.wraps(func) # preserves identity\n",
    "    def wrapper(*args, **kwargs):\n",
    "        print('extending behavior before')\n",
    "        res = func(*args, **kwargs)\n",
    "        print('extending behavior after')\n",
    "        return res\n",
    "    return wrapper\n",
    "\n",
    "def debug(func):\n",
    "    @functools.wraps(func)\n",
    "    def wrapper(*args, **kwargs):\n",
    "        args_repr = [repr(a) for a in args]\n",
    "        kwargs_repr = [f\"{k}={v!r}\" for k, v in kwargs.items()]\n",
    "        signature = \", \".join(args_repr + kwargs_repr)\n",
    "        print(f\"Calling {func.__name__}({signature})\")\n",
    "        result = func(*args, **kwargs)\n",
    "        print(f\"{func.__name__!r} returned {result!r}\")\n",
    "        return result\n",
    "\n",
    "    return wrapper\n",
    "\n",
    "@debug\n",
    "@start_end_decorator\n",
    "def say_hello(name):\n",
    "    greeting = f'Hello {name}'\n",
    "    print(greeting)\n",
    "\n",
    "    return greeting\n",
    "\n",
    "\n",
    "say_hello(\"ed\")"
   ]
  },
  {
   "cell_type": "markdown",
   "id": "027d1ce9-4422-4e43-a6a8-e7499efa49b0",
   "metadata": {},
   "source": [
    "### class decorators\n",
    "used to maintain and update a state"
   ]
  },
  {
   "cell_type": "code",
   "execution_count": 19,
   "id": "00908d93-8f92-4fb4-8ce9-2eac3bd19f19",
   "metadata": {},
   "outputs": [
    {
     "name": "stdout",
     "output_type": "stream",
     "text": [
      "this has executed 1 times\n",
      "hello\n",
      "this has executed 2 times\n",
      "hello\n"
     ]
    },
    {
     "data": {
      "text/plain": [
       "2"
      ]
     },
     "execution_count": 19,
     "metadata": {},
     "output_type": "execute_result"
    }
   ],
   "source": [
    "class CountCalls:\n",
    "    def __init__(self, func):\n",
    "        self.func = func\n",
    "        self.num_calls = 0\n",
    "    \n",
    "    def __call__(self, *args, **kwargs):\n",
    "        self.num_calls += 1\n",
    "        print(f\"this has executed {self.num_calls} times\")\n",
    "        return self.func(*args, **kwargs)\n",
    "        \n",
    "\n",
    "@CountCalls \n",
    "def say_hello():\n",
    "    print('hello')\n",
    "    \n",
    "\n",
    "say_hello()\n",
    "say_hello()\n",
    "\n",
    "say_hello.num_calls"
   ]
  },
  {
   "cell_type": "code",
   "execution_count": null,
   "id": "267b117a-c245-498f-8c23-d70c8d5cc26d",
   "metadata": {},
   "outputs": [],
   "source": []
  }
 ],
 "metadata": {
  "kernelspec": {
   "display_name": "Python 3",
   "language": "python",
   "name": "python3"
  },
  "language_info": {
   "codemirror_mode": {
    "name": "ipython",
    "version": 3
   },
   "file_extension": ".py",
   "mimetype": "text/x-python",
   "name": "python",
   "nbconvert_exporter": "python",
   "pygments_lexer": "ipython3",
   "version": "3.9.5"
  }
 },
 "nbformat": 4,
 "nbformat_minor": 5
}
