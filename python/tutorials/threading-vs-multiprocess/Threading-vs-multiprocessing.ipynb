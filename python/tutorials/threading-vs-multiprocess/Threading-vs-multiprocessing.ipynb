{
 "cells": [
  {
   "cell_type": "markdown",
   "id": "90d1761e-090e-4a3e-9dd4-de231435e750",
   "metadata": {},
   "source": [
    "# [Threading Vs Multiprocessing](https://www.youtube.com/watch?v=HGOBQPFzWKo&t=14009s)\n",
    "\n",
    "### Process: an instance of a program\n",
    "Can contain many threads\n",
    "PRO:\n",
    "- takes advantage of multiple cpus & cores\n",
    "- separate memory space for each process\n",
    "- great for cpu-bound processing\n",
    "- new process is started independently of other processes\n",
    "- processes are interruptible/killable\n",
    "- one GIL for each process -> avoid GIL limitation\n",
    "\n",
    "CON:\n",
    "- heavyweight\n",
    "- starting a process is slower than starting a thread\n",
    "- more memory\n",
    "- Inter-Process-Communication is complicated\n",
    "\n",
    "\n",
    "### Thread: An entity within a process that can be scheduled, \"a lightweight process\"\n",
    "A process can spawn multiple threads\n",
    "PRO:\n",
    "- All threads within a process share the same memory\n",
    "- lightweight\n",
    "- starting a thread is faster than starting a process\n",
    "- great for I/O-bound tasks\n",
    "\n",
    "CON:\n",
    "- threading is limited by GIL: only one thread at a time\n",
    "  - not ACTUALLY parrallel\n",
    "- no effect for cpu-bound tasks\n",
    "- not interruptable/killable\n",
    "  - could cause memory leaks\n",
    "- careful with race conditions\n",
    "  - yes, even with the GIL\n",
    "\n",
    "\n",
    "### GIL: Global interpreter lock\n",
    "**A python quirk**: A lock that allows only one thread to execute at a time\n",
    "- also used in ruby\n",
    "- needed in CPython because memory management is not thread-safe\n",
    "\n",
    "Ways to avoid the GIL:\n",
    "- use multiprocessing\n",
    "- use a python implementation w/o a GIL(Jython, IronPython)\n",
    "- use python as a wrapper for third-party libraries(C/C++)\n",
    "  - IE: numpy & scipy are just wrappers in python that call C/C++"
   ]
  },
  {
   "cell_type": "markdown",
   "id": "2951fbef-2279-4ecb-a6b7-b9e08e384dd4",
   "metadata": {},
   "source": [
    "See multi-processing.py for an example of multi-processing"
   ]
  },
  {
   "cell_type": "code",
   "execution_count": null,
   "id": "e5b9aa0d-0429-419a-9c76-aa51e0d7085c",
   "metadata": {},
   "outputs": [],
   "source": []
  }
 ],
 "metadata": {
  "kernelspec": {
   "display_name": "Python 3",
   "language": "python",
   "name": "python3"
  },
  "language_info": {
   "codemirror_mode": {
    "name": "ipython",
    "version": 3
   },
   "file_extension": ".py",
   "mimetype": "text/x-python",
   "name": "python",
   "nbconvert_exporter": "python",
   "pygments_lexer": "ipython3",
   "version": "3.9.5"
  }
 },
 "nbformat": 4,
 "nbformat_minor": 5
}