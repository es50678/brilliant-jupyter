{
 "cells": [
  {
   "cell_type": "markdown",
   "id": "backed-arabic",
   "metadata": {},
   "source": [
    "https://leetcode.com/explore/learn/card/fun-with-arrays/521/introduction/"
   ]
  },
  {
   "cell_type": "markdown",
   "id": "certain-reasoning",
   "metadata": {},
   "source": [
    "### Max Consecutive Ones\n",
    "```\n",
    "Input: [1,1,0,1,1,1]\n",
    "Output: 3\n",
    "Explanation: The first two digits or the %load_ext memory_profiler\n",
    "last three digits are consecutive 1s.\n",
    "    The maximum number of consecutive 1s is 3.\n",
    "```"
   ]
  },
  {
   "cell_type": "code",
   "execution_count": 1,
   "id": "expressed-casino",
   "metadata": {
    "execution": {
     "iopub.execute_input": "2021-03-20T02:46:08.624179Z",
     "iopub.status.busy": "2021-03-20T02:46:08.623887Z",
     "iopub.status.idle": "2021-03-20T02:46:08.631978Z",
     "shell.execute_reply": "2021-03-20T02:46:08.631169Z",
     "shell.execute_reply.started": "2021-03-20T02:46:08.624098Z"
    },
    "tags": []
   },
   "outputs": [],
   "source": [
    "from typing import List\n",
    "\n",
    "class Solution:\n",
    "    def findMaxConsecutiveOnes(self, nums: List[int]) -> int:\n",
    "        count = -1\n",
    "        highest = 0\n",
    "        \n",
    "        if not nums:\n",
    "            return highest\n",
    "        \n",
    "        for i in range(0, len(nums)):\n",
    "            if nums[i] == 1:\n",
    "                highest = max(highest, i - count)\n",
    "            else:\n",
    "                count = i\n",
    "        \n",
    "        return highest"
   ]
  },
  {
   "cell_type": "code",
   "execution_count": 2,
   "id": "greek-contributor",
   "metadata": {
    "execution": {
     "iopub.execute_input": "2021-03-20T02:46:09.659587Z",
     "iopub.status.busy": "2021-03-20T02:46:09.659355Z",
     "iopub.status.idle": "2021-03-20T02:46:09.663949Z",
     "shell.execute_reply": "2021-03-20T02:46:09.663247Z",
     "shell.execute_reply.started": "2021-03-20T02:46:09.659563Z"
    },
    "tags": []
   },
   "outputs": [],
   "source": [
    "from helpers import cases"
   ]
  },
  {
   "cell_type": "code",
   "execution_count": 5,
   "id": "wrapped-argentina",
   "metadata": {
    "execution": {
     "iopub.execute_input": "2021-03-20T02:46:34.101837Z",
     "iopub.status.busy": "2021-03-20T02:46:34.101637Z",
     "iopub.status.idle": "2021-03-20T02:46:34.105013Z",
     "shell.execute_reply": "2021-03-20T02:46:34.104445Z",
     "shell.execute_reply.started": "2021-03-20T02:46:34.101816Z"
    },
    "tags": []
   },
   "outputs": [
    {
     "name": "stdout",
     "output_type": "stream",
     "text": [
      "3\n",
      "2\n",
      "0\n",
      "6\n"
     ]
    }
   ],
   "source": [
    "for case in cases:\n",
    "    print(Solution().findMaxConsecutiveOnes(case))"
   ]
  },
  {
   "cell_type": "code",
   "execution_count": null,
   "id": "ordinary-irish",
   "metadata": {},
   "outputs": [],
   "source": []
  }
 ],
 "metadata": {
  "kernelspec": {
   "display_name": "Python 3",
   "language": "python",
   "name": "python3"
  },
  "language_info": {
   "codemirror_mode": {
    "name": "ipython",
    "version": 3
   },
   "file_extension": ".py",
   "mimetype": "text/x-python",
   "name": "python",
   "nbconvert_exporter": "python",
   "pygments_lexer": "ipython3",
   "version": "3.9.2"
  }
 },
 "nbformat": 4,
 "nbformat_minor": 5
}
