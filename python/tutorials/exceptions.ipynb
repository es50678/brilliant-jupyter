{
 "cells": [
  {
   "cell_type": "markdown",
   "id": "952f71e2-cf24-4234-85a0-b1dcc3dc1959",
   "metadata": {},
   "source": [
    "https://www.youtube.com/watch?v=HGOBQPFzWKo&t=7443s"
   ]
  },
  {
   "cell_type": "code",
   "execution_count": 4,
   "id": "e660735a-91a7-4128-977c-c636b0d684f7",
   "metadata": {},
   "outputs": [
    {
     "name": "stdout",
     "output_type": "stream",
     "text": [
      "(<class 'ZeroDivisionError'>, <class 'ArithmeticError'>, <class 'Exception'>, <class 'BaseException'>, <class 'object'>)\n",
      "False\n",
      "hello world\n"
     ]
    }
   ],
   "source": [
    "import inspect\n",
    "\n",
    "try:\n",
    "    a = 5 / 0\n",
    "except Exception as e:\n",
    "    print(inspect.getmro(type(e)))\n",
    "    print(inspect.isabstract(ArithmeticError))\n",
    "finally:\n",
    "    print(\"hello world\")"
   ]
  },
  {
   "cell_type": "code",
   "execution_count": null,
   "id": "86846f71-955b-45cd-a94a-5589a67ef538",
   "metadata": {},
   "outputs": [],
   "source": []
  }
 ],
 "metadata": {
  "kernelspec": {
   "display_name": "Python 3",
   "language": "python",
   "name": "python3"
  },
  "language_info": {
   "codemirror_mode": {
    "name": "ipython",
    "version": 3
   },
   "file_extension": ".py",
   "mimetype": "text/x-python",
   "name": "python",
   "nbconvert_exporter": "python",
   "pygments_lexer": "ipython3",
   "version": "3.7.10"
  }
 },
 "nbformat": 4,
 "nbformat_minor": 5
}
