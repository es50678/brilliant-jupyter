{
 "cells": [
  {
   "cell_type": "code",
   "execution_count": 1,
   "id": "unnecessary-authority",
   "metadata": {},
   "outputs": [],
   "source": [
    "import numpy as np\n",
    "\n",
    "def sym(*args):\n",
    "    sym_diff = np.array([], dtype=int)\n",
    "    \n",
    "    for indx, arr in enumerate(args):\n",
    "        \n",
    "        if (indx + 1) < len(args):\n",
    "            b = np.array(args[indx+1], dtype=int)\n",
    "            \n",
    "            if indx == 0:\n",
    "                sym_diff = np.setxor1d(arr, b)\n",
    "            else:\n",
    "                sym_diff = np.setxor1d(sym_diff, b)\n",
    "    \n",
    "    return sym_diff"
   ]
  },
  {
   "cell_type": "code",
   "execution_count": 2,
   "id": "floral-earthquake",
   "metadata": {},
   "outputs": [
    {
     "data": {
      "text/plain": [
       "array([3, 4, 5])"
      ]
     },
     "execution_count": 2,
     "metadata": {},
     "output_type": "execute_result"
    }
   ],
   "source": [
    "# sym([1, 2, 3], [5, 2, 1, 4]) should return [3, 4, 5].\n",
    "sym([1,2,3], [5,2,1,4])"
   ]
  },
  {
   "cell_type": "code",
   "execution_count": 3,
   "id": "scientific-alcohol",
   "metadata": {},
   "outputs": [
    {
     "data": {
      "text/plain": [
       "array([3, 4, 5])"
      ]
     },
     "execution_count": 3,
     "metadata": {},
     "output_type": "execute_result"
    }
   ],
   "source": [
    "# sym([1, 2, 3, 3], [5, 2, 1, 4]) should return [3, 4, 5].\n",
    "sym([1, 2, 3, 3], [5, 2, 1, 4])"
   ]
  },
  {
   "cell_type": "code",
   "execution_count": 4,
   "id": "ordered-convenience",
   "metadata": {},
   "outputs": [
    {
     "data": {
      "text/plain": [
       "array([3, 4, 5])"
      ]
     },
     "execution_count": 4,
     "metadata": {},
     "output_type": "execute_result"
    }
   ],
   "source": [
    "# sym([1, 2, 3], [5, 2, 1, 4, 5]) should return [3, 4, 5].\n",
    "sym([1, 2, 3], [5, 2, 1, 4, 5])"
   ]
  },
  {
   "cell_type": "code",
   "execution_count": 5,
   "id": "smooth-mason",
   "metadata": {},
   "outputs": [
    {
     "data": {
      "text/plain": [
       "array([1, 4, 5])"
      ]
     },
     "execution_count": 5,
     "metadata": {},
     "output_type": "execute_result"
    }
   ],
   "source": [
    "# sym([1, 2, 5], [2, 3, 5], [3, 4, 5]) should return [1, 4, 5]\n",
    "sym([1, 2, 5], [2, 3, 5], [3, 4, 5])"
   ]
  },
  {
   "cell_type": "code",
   "execution_count": 7,
   "id": "unique-contractor",
   "metadata": {},
   "outputs": [
    {
     "data": {
      "text/plain": [
       "array([1, 4, 5])"
      ]
     },
     "execution_count": 7,
     "metadata": {},
     "output_type": "execute_result"
    }
   ],
   "source": [
    "# sym([1, 1, 2, 5], [2, 2, 3, 5], [3, 4, 5, 5]) should return [1, 4, 5].\n",
    "sym([1, 1, 2, 5], [2, 2, 3, 5], [3, 4, 5, 5])"
   ]
  },
  {
   "cell_type": "code",
   "execution_count": 8,
   "id": "hydraulic-garlic",
   "metadata": {},
   "outputs": [
    {
     "data": {
      "text/plain": [
       "array([2, 3, 4, 6, 7])"
      ]
     },
     "execution_count": 8,
     "metadata": {},
     "output_type": "execute_result"
    }
   ],
   "source": [
    "# sym([3, 3, 3, 2, 5], [2, 1, 5, 7], [3, 4, 6, 6], [1, 2, 3]) should return [2, 3, 4, 6, 7].\n",
    "sym([3, 3, 3, 2, 5], [2, 1, 5, 7], [3, 4, 6, 6], [1, 2, 3])"
   ]
  },
  {
   "cell_type": "code",
   "execution_count": 9,
   "id": "boring-brooklyn",
   "metadata": {},
   "outputs": [
    {
     "data": {
      "text/plain": [
       "array([1, 2, 4, 5, 6, 7, 8, 9])"
      ]
     },
     "execution_count": 9,
     "metadata": {},
     "output_type": "execute_result"
    }
   ],
   "source": [
    "# sym([3, 3, 3, 2, 5], [2, 1, 5, 7], [3, 4, 6, 6], [1, 2, 3], [5, 3, 9, 8], [1]) should return [1, 2, 4, 5, 6, 7, 8, 9].\n",
    "sym([3, 3, 3, 2, 5], [2, 1, 5, 7], [3, 4, 6, 6], [1, 2, 3], [5, 3, 9, 8], [1])"
   ]
  },
  {
   "cell_type": "code",
   "execution_count": null,
   "id": "expanded-rapid",
   "metadata": {},
   "outputs": [],
   "source": []
  }
 ],
 "metadata": {
  "kernelspec": {
   "display_name": "Python 3",
   "language": "python",
   "name": "python3"
  },
  "language_info": {
   "codemirror_mode": {
    "name": "ipython",
    "version": 3
   },
   "file_extension": ".py",
   "mimetype": "text/x-python",
   "name": "python",
   "nbconvert_exporter": "python",
   "pygments_lexer": "ipython3",
   "version": "3.8.7"
  }
 },
 "nbformat": 4,
 "nbformat_minor": 5
}
