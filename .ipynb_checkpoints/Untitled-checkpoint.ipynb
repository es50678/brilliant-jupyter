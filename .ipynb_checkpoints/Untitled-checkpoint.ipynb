{
 "cells": [
  {
   "cell_type": "code",
   "execution_count": 10,
   "id": "incoming-march",
   "metadata": {
    "execution": {
     "iopub.execute_input": "2021-03-19T16:49+0000",
     "iopub.status.busy": "2021-03-19T16:49+0000",
     "iopub.status.idle": "2021-03-19T16:49+0000",
     "shell.execute_reply": "2021-03-19T16:49+0000",
     "shell.execute_reply.started": "2021-03-19T16:49+0000"
    },
    "tags": []
   },
   "outputs": [
    {
     "name": "stderr",
     "output_type": "stream",
     "text": [
      "[ERROR] null\n",
      "org.codehaus.groovy.control.MultipleCompilationErrorsException: startup failed:\n",
      "Script10.groovy: 2: unable to resolve class pack.Demo\n",
      " @ line 2, column 1.\n",
      "   import pack.Demo;  \n",
      "   ^\n",
      "\n",
      "1 error\n",
      "\n",
      "\tat org.codehaus.groovy.control.ErrorCollector.failIfErrors(ErrorCollector.java:310)\n",
      "\tat org.codehaus.groovy.control.CompilationUnit.applyToSourceUnits(CompilationUnit.java:958)\n",
      "\tat org.codehaus.groovy.control.CompilationUnit.doPhaseOperation(CompilationUnit.java:605)\n",
      "\tat org.codehaus.groovy.control.CompilationUnit.compile(CompilationUnit.java:554)\n",
      "\tat groovy.lang.GroovyClassLoader.doParseClass(GroovyClassLoader.java:298)\n",
      "\tat groovy.lang.GroovyClassLoader.parseClass(GroovyClassLoader.java:268)\n",
      "\tat groovy.lang.GroovyClassLoader.parseClass(GroovyClassLoader.java:254)\n",
      "\tat groovy.lang.GroovyClassLoader.parseClass(GroovyClassLoader.java:250)\n",
      "\tat org.scijava.plugins.scripting.groovy.GroovyScriptEngine.getScriptClass(GroovyScriptEngine.java:319)\n",
      "\tat org.scijava.plugins.scripting.groovy.GroovyScriptEngine.eval(GroovyScriptEngine.java:122)\n",
      "\tat javax.script.AbstractScriptEngine.eval(AbstractScriptEngine.java:264)\n",
      "\tat org.scijava.script.ScriptModule.run(ScriptModule.java:160)\n",
      "\tat org.scijava.module.ModuleRunner.run(ModuleRunner.java:168)\n",
      "\tat org.scijava.jupyter.kernel.evaluator.Worker.run(Worker.java:108)\n",
      "\tat org.scijava.thread.DefaultThreadService$2.run(DefaultThreadService.java:221)\n",
      "\tat java.util.concurrent.Executors$RunnableAdapter.call(Executors.java:511)\n",
      "\tat java.util.concurrent.FutureTask.run(FutureTask.java:266)\n",
      "\tat java.util.concurrent.ThreadPoolExecutor.runWorker(ThreadPoolExecutor.java:1142)\n",
      "\tat java.util.concurrent.ThreadPoolExecutor$Worker.run(ThreadPoolExecutor.java:617)\n",
      "\tat java.lang.Thread.run(Thread.java:745)\n"
     ]
    }
   ],
   "source": [
    "package mypack;  \n",
    "import pack.Demo;\n",
    "class Test {  \n",
    "    public static void main() {  \n",
    "        Demo obj = new Demo();  \n",
    "        obj.msg();  \n",
    "    }  \n",
    "}"
   ]
  },
  {
   "cell_type": "code",
   "execution_count": 2,
   "id": "trying-client",
   "metadata": {
    "execution": {
     "iopub.execute_input": "2021-03-19T16:29+0000",
     "iopub.status.busy": "2021-03-19T16:29+0000",
     "iopub.status.idle": "2021-03-19T16:29+0000",
     "shell.execute_reply": "2021-03-19T16:29+0000",
     "shell.execute_reply.started": "2021-03-19T16:29+0000"
    },
    "tags": []
   },
   "outputs": [
    {
     "data": {
      "text/html": [
       "[LDVD;&#8203;@80e365e"
      ]
     },
     "execution_count": 2,
     "metadata": {},
     "output_type": "execute_result"
    }
   ],
   "source": [
    "// The actual code for creating an Array to hold DVD's.\n",
    "DVD[] dvdCollection = new DVD[15];"
   ]
  },
  {
   "cell_type": "code",
   "execution_count": null,
   "id": "identical-advice",
   "metadata": {},
   "outputs": [],
   "source": []
  }
 ],
 "metadata": {
  "kernelspec": {
   "display_name": "SciJava",
   "language": "groovy",
   "name": "scijava"
  },
  "language_info": {
   "codemirror_mode": "groovy",
   "file_extension": "",
   "mimetype": "",
   "name": "scijava",
   "nbconverter_exporter": "",
   "pygments_lexer": "groovy",
   "version": "1.0"
  }
 },
 "nbformat": 4,
 "nbformat_minor": 5
}
